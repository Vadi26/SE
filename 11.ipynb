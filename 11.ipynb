{
 "cells": [
  {
   "cell_type": "code",
   "execution_count": 1,
   "metadata": {},
   "outputs": [
    {
     "name": "stdout",
     "output_type": "stream",
     "text": [
      "\n",
      "File Operations Menu:\n",
      "1. Read and display file contents\n",
      "2. Quit\n",
      "Invalid choice. Please select a valid option (1/2).\n",
      "\n",
      "File Operations Menu:\n",
      "1. Read and display file contents\n",
      "2. Quit\n",
      "Error: The file 'kk.txt' was not found.\n",
      "\n",
      "File Operations Menu:\n",
      "1. Read and display file contents\n",
      "2. Quit\n",
      "Cat\n",
      "dog\n",
      "bear\n",
      "hello\n",
      "elephant\n",
      "hello\n",
      "tiger\n",
      "hello\n",
      "horse\n",
      "\n",
      "File Operations Menu:\n",
      "1. Read and display file contents\n",
      "2. Quit\n",
      "Exiting the program.\n"
     ]
    }
   ],
   "source": [
    "while True:\n",
    "    print(\"\\nFile Operations Menu:\")\n",
    "    print(\"1. Read and display file contents\")\n",
    "    print(\"2. Quit\")\n",
    "\n",
    "    choice = input(\"Enter your choice (1/2): \")\n",
    "\n",
    "    if choice == '1':\n",
    "        try:\n",
    "            file_name = input(\"Enter the file name: \")\n",
    "            file_name += \".txt\"\n",
    "\n",
    "            with open(file_name, 'r') as file:\n",
    "                for line in file:\n",
    "                    print(line.rstrip())\n",
    "\n",
    "        except FileNotFoundError:\n",
    "            print(f\"Error: The file '{file_name}' was not found.\")\n",
    "        except PermissionError:\n",
    "            print(f\"Error: Permission denied to read '{file_name}'.\")\n",
    "        except Exception as e:\n",
    "            print(f\"An error occurred: {str(e)}\")\n",
    "\n",
    "    elif choice == '2':\n",
    "        print(\"Exiting the program.\")\n",
    "        break\n",
    "\n",
    "    else:\n",
    "        print(\"Invalid choice. Please select a valid option (1/2).\")"
   ]
  },
  {
   "cell_type": "code",
   "execution_count": null,
   "metadata": {},
   "outputs": [],
   "source": []
  }
 ],
 "metadata": {
  "kernelspec": {
   "display_name": "Python 3",
   "language": "python",
   "name": "python3"
  },
  "language_info": {
   "codemirror_mode": {
    "name": "ipython",
    "version": 3
   },
   "file_extension": ".py",
   "mimetype": "text/x-python",
   "name": "python",
   "nbconvert_exporter": "python",
   "pygments_lexer": "ipython3",
   "version": "3.10.12"
  },
  "orig_nbformat": 4
 },
 "nbformat": 4,
 "nbformat_minor": 2
}

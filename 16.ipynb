{
 "cells": [
  {
   "cell_type": "code",
   "execution_count": 1,
   "metadata": {},
   "outputs": [
    {
     "name": "stdout",
     "output_type": "stream",
     "text": [
      "\n",
      "Pyramid Printing Menu:\n",
      "1. Print a Pyramid of Numbers\n",
      "2. Print a Pyramid of a Character\n",
      "3. Quit\n",
      "Invalid choice. Please select a valid option (1/2/3).\n",
      "\n",
      "Pyramid Printing Menu:\n",
      "1. Print a Pyramid of Numbers\n",
      "2. Print a Pyramid of a Character\n",
      "3. Quit\n",
      "    1\n",
      "   1 2\n",
      "  1 2 3\n",
      " 1 2 3 4\n",
      "1 2 3 4 5\n",
      "\n",
      "Pyramid Printing Menu:\n",
      "1. Print a Pyramid of Numbers\n",
      "2. Print a Pyramid of a Character\n",
      "3. Quit\n",
      "    p\n",
      "   ppp\n",
      "  ppppp\n",
      " ppppppp\n",
      "ppppppppp\n",
      "\n",
      "Pyramid Printing Menu:\n",
      "1. Print a Pyramid of Numbers\n",
      "2. Print a Pyramid of a Character\n",
      "3. Quit\n",
      "Exiting the program.\n"
     ]
    }
   ],
   "source": [
    "while True:\n",
    "    print(\"\\nPyramid Printing Menu:\")\n",
    "    print(\"1. Print a Pyramid of Numbers\")\n",
    "    print(\"2. Print a Pyramid of a Character\")\n",
    "    print(\"3. Quit\")\n",
    "\n",
    "    choice = input(\"Enter your choice (1/2/3): \")\n",
    "\n",
    "    if choice == '1':\n",
    "        try:\n",
    "            height = int(input(\"Enter the height of the pyramid: \"))\n",
    "            while height <= 0:\n",
    "                print(\"Height should be a positive integer.\")\n",
    "                height = int(input(\"Enter the height of the pyramid: \"))\n",
    "            else:\n",
    "                for i in range(1, height + 1):\n",
    "                    print(\" \" * (height - i) + \" \".join(map(str, range(1, i + 1))))\n",
    "        except ValueError:\n",
    "            print(\"Invalid input. Please enter a positive integer for the height.\")\n",
    "\n",
    "    elif choice == '2':\n",
    "        character = input(\"Enter the character you want to use: \")\n",
    "        while len(character) != 1:\n",
    "            print(\"Please enter a single character.\")\n",
    "            character = input(\"Enter the character you want to use: \")\n",
    "        else:\n",
    "            try:\n",
    "                height = int(input(\"Enter the height of the pyramid: \"))\n",
    "                while height <= 0:\n",
    "                    print(\"Height should be a positive integer.\")\n",
    "                    height = int(input(\"Enter the height of the pyramid: \"))\n",
    "                else:\n",
    "                    for i in range(1, height + 1):\n",
    "                        print(\" \" * (height - i) + character * (2 * i - 1))\n",
    "            except ValueError:\n",
    "                print(\"Invalid input. Please enter a positive integer for the height.\")\n",
    "\n",
    "    elif choice == '3':\n",
    "        print(\"Exiting the program.\")\n",
    "        break\n",
    "\n",
    "    else:\n",
    "        print(\"Invalid choice. Please select a valid option (1/2/3).\")\n"
   ]
  },
  {
   "cell_type": "code",
   "execution_count": null,
   "metadata": {},
   "outputs": [],
   "source": []
  }
 ],
 "metadata": {
  "kernelspec": {
   "display_name": "Python 3",
   "language": "python",
   "name": "python3"
  },
  "language_info": {
   "codemirror_mode": {
    "name": "ipython",
    "version": 3
   },
   "file_extension": ".py",
   "mimetype": "text/x-python",
   "name": "python",
   "nbconvert_exporter": "python",
   "pygments_lexer": "ipython3",
   "version": "3.10.12"
  },
  "orig_nbformat": 4
 },
 "nbformat": 4,
 "nbformat_minor": 2
}

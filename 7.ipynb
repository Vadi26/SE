{
 "cells": [
  {
   "cell_type": "code",
   "execution_count": 8,
   "metadata": {},
   "outputs": [],
   "source": [
    "def largest(a, b, c):\n",
    "    if (a > b):\n",
    "        if (a > c):\n",
    "            return a\n",
    "        else:\n",
    "            return c\n",
    "    else:\n",
    "        if (b > c):\n",
    "            return b\n",
    "        else:\n",
    "            return c"
   ]
  },
  {
   "cell_type": "code",
   "execution_count": 9,
   "metadata": {},
   "outputs": [
    {
     "name": "stdout",
     "output_type": "stream",
     "text": [
      "\n",
      "Menu:\n",
      "1. Find the largest number\n",
      "2. Quit\n",
      "Largest number is: 11\n",
      "\n",
      "Menu:\n",
      "1. Find the largest number\n",
      "2. Quit\n",
      "Invalid choice. Please select a valid option.\n",
      "\n",
      "Menu:\n",
      "1. Find the largest number\n",
      "2. Quit\n",
      "Exiting the program. Goodbye!\n"
     ]
    }
   ],
   "source": [
    "while True:\n",
    "    print(\"\\nMenu:\")\n",
    "    print(\"1. Find the largest number\")\n",
    "    print(\"2. Quit\")\n",
    "\n",
    "    choice = input(\"Select an option (1/2): \")\n",
    "\n",
    "    if choice == \"2\":\n",
    "        print(\"Exiting the program. Goodbye!\")\n",
    "        break\n",
    "\n",
    "    if choice != \"1\":\n",
    "        print(\"Invalid choice. Please select a valid option.\")\n",
    "        continue\n",
    "\n",
    "    try:\n",
    "        num1 = int(input(\"Enter 1st number: \"))\n",
    "        num2 = int(input(\"Enter 2nd number: \"))\n",
    "        num3 = int(input(\"Enter 3rd number: \"))\n",
    "\n",
    "        largest_number = largest(num1, num2, num3)\n",
    "        print(\"Largest number is:\", largest_number)\n",
    "    except ValueError:\n",
    "        print(\"Input not in proper format. Please enter valid numbers.\")\n",
    "    except Exception as e:\n",
    "        print(\"An error occurred:\", str(e))"
   ]
  },
  {
   "cell_type": "code",
   "execution_count": null,
   "metadata": {},
   "outputs": [],
   "source": []
  }
 ],
 "metadata": {
  "kernelspec": {
   "display_name": "Python 3",
   "language": "python",
   "name": "python3"
  },
  "language_info": {
   "codemirror_mode": {
    "name": "ipython",
    "version": 3
   },
   "file_extension": ".py",
   "mimetype": "text/x-python",
   "name": "python",
   "nbconvert_exporter": "python",
   "pygments_lexer": "ipython3",
   "version": "3.10.12"
  },
  "orig_nbformat": 4
 },
 "nbformat": 4,
 "nbformat_minor": 2
}

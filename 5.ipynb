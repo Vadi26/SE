{
 "cells": [
  {
   "cell_type": "code",
   "execution_count": 2,
   "metadata": {},
   "outputs": [],
   "source": [
    "def displayResult(marks):\n",
    "    count = 0\n",
    "    total = 0\n",
    "    for mark in marks:\n",
    "        total += mark\n",
    "        count += 1\n",
    "    percentage = (total / (count*100)) * 100\n",
    "    if (percentage > 80):\n",
    "        return \"i-division\"\n",
    "    elif (percentage > 60):\n",
    "        return \"ii-division\"\n",
    "    elif (percentage > 40):\n",
    "        return \"iii-division\"\n",
    "    else:\n",
    "        return \"iv-division\""
   ]
  },
  {
   "cell_type": "code",
   "execution_count": 6,
   "metadata": {},
   "outputs": [
    {
     "name": "stdout",
     "output_type": "stream",
     "text": [
      "Menu:\n",
      "1. Calculate Division\n",
      "2. Exit\n",
      "Enter the marks for each subject:\n",
      "Result: iv-division\n",
      "Menu:\n",
      "1. Calculate Division\n",
      "2. Exit\n"
     ]
    }
   ],
   "source": [
    "\n",
    "try:\n",
    "    while True:\n",
    "        print(\"Menu:\")\n",
    "        print(\"1. Calculate Division\")\n",
    "        print(\"2. Exit\")\n",
    "            \n",
    "        choice = int(input(\"Enter your choice: \"))\n",
    "            \n",
    "        if choice == 1:\n",
    "            i = int(input(\"Enter the number of subjects: \"))\n",
    "            print(\"Enter the marks for each subject:\")\n",
    "            marks = []\n",
    "            for _ in range(i):\n",
    "                marks.append(float(input(\"Enter marks: \")))\n",
    "            \n",
    "            result = displayResult(marks)\n",
    "            print(\"Result:\", result)\n",
    "        elif choice == 2:\n",
    "            break\n",
    "        else:\n",
    "            print(\"Invalid choice. Please select a valid option.\")\n",
    "except ValueError:\n",
    "    print(\"Input format is not correct! Please enter valid input.\")\n",
    "except Exception as e:\n",
    "    print(\"An error occurred:\", str(e))"
   ]
  },
  {
   "cell_type": "code",
   "execution_count": null,
   "metadata": {},
   "outputs": [],
   "source": []
  }
 ],
 "metadata": {
  "kernelspec": {
   "display_name": "Python 3",
   "language": "python",
   "name": "python3"
  },
  "language_info": {
   "codemirror_mode": {
    "name": "ipython",
    "version": 3
   },
   "file_extension": ".py",
   "mimetype": "text/x-python",
   "name": "python",
   "nbconvert_exporter": "python",
   "pygments_lexer": "ipython3",
   "version": "3.10.12"
  },
  "orig_nbformat": 4
 },
 "nbformat": 4,
 "nbformat_minor": 2
}

{
 "cells": [
  {
   "cell_type": "code",
   "execution_count": 4,
   "metadata": {},
   "outputs": [],
   "source": [
    "def displayResult(marks):\n",
    "    count = 0\n",
    "    total = 0\n",
    "    for mark in marks:\n",
    "        total += mark\n",
    "        count += 1\n",
    "    percentage = (total / (count*100)) * 100\n",
    "    if (percentage > 80):\n",
    "        return \"i-division\"\n",
    "    elif (percentage > 60):\n",
    "        return \"ii-division\"\n",
    "    elif (percentage > 40):\n",
    "        return \"iii-division\"\n",
    "    else:\n",
    "        return \"iv-division\""
   ]
  },
  {
   "cell_type": "code",
   "execution_count": 5,
   "metadata": {},
   "outputs": [
    {
     "name": "stdout",
     "output_type": "stream",
     "text": [
      "Enter the marks for each subject \n",
      "\n",
      "i-division\n"
     ]
    }
   ],
   "source": [
    "i = int(input(\"Enter the no.of subjects : \"))\n",
    "print(\"Enter the marks for each subject \\n\")\n",
    "marks = []\n",
    "for f in range(i):\n",
    "    marks.append(float(input(\"Enter marks : \")))\n",
    "\n",
    "print(displayResult(marks))"
   ]
  },
  {
   "cell_type": "code",
   "execution_count": null,
   "metadata": {},
   "outputs": [],
   "source": []
  }
 ],
 "metadata": {
  "kernelspec": {
   "display_name": "Python 3",
   "language": "python",
   "name": "python3"
  },
  "language_info": {
   "codemirror_mode": {
    "name": "ipython",
    "version": 3
   },
   "file_extension": ".py",
   "mimetype": "text/x-python",
   "name": "python",
   "nbconvert_exporter": "python",
   "pygments_lexer": "ipython3",
   "version": "3.10.12"
  },
  "orig_nbformat": 4
 },
 "nbformat": 4,
 "nbformat_minor": 2
}

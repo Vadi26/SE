{
 "cells": [
  {
   "cell_type": "code",
   "execution_count": 1,
   "metadata": {},
   "outputs": [],
   "source": [
    "import math"
   ]
  },
  {
   "cell_type": "code",
   "execution_count": 2,
   "metadata": {},
   "outputs": [],
   "source": [
    "def areaAndCircum(radius):\n",
    "    return math.pi * radius * radius, 2 * math.pi * radius"
   ]
  },
  {
   "cell_type": "code",
   "execution_count": 3,
   "metadata": {},
   "outputs": [
    {
     "name": "stdout",
     "output_type": "stream",
     "text": [
      "1. Calculate Area and Circumference\n",
      "2. Exit\n",
      "Invalid choice. Please select a valid option.\n",
      "1. Calculate Area and Circumference\n",
      "2. Exit\n",
      "Invalid choice. Please select a valid option.\n",
      "1. Calculate Area and Circumference\n",
      "2. Exit\n",
      "Input format not correct! Please enter a valid number.\n",
      "1. Calculate Area and Circumference\n",
      "2. Exit\n",
      "Area -> 314.1592653589793\n",
      "Circumference -> 62.83185307179586\n",
      "1. Calculate Area and Circumference\n",
      "2. Exit\n"
     ]
    }
   ],
   "source": [
    "while True:\n",
    "    print(\"1. Calculate Area and Circumference\")\n",
    "    print(\"2. Exit\")\n",
    "    choice = input(\"Enter your choice: \")\n",
    "\n",
    "    if choice == '1':\n",
    "        try:\n",
    "            radius = float(input(\"Enter the radius: \"))\n",
    "            if radius <= 0:\n",
    "                print(\"Radius must be a positive number.\")\n",
    "            else:\n",
    "                area, circumference = areaAndCircum(radius)\n",
    "                print(\"Area ->\", area)\n",
    "                print(\"Circumference ->\", circumference)\n",
    "        except ValueError:\n",
    "            print(\"Input format not correct! Please enter a valid number.\")\n",
    "    elif choice == '2':\n",
    "        break\n",
    "    else:\n",
    "        print(\"Invalid choice. Please select a valid option.\")"
   ]
  },
  {
   "cell_type": "code",
   "execution_count": null,
   "metadata": {},
   "outputs": [],
   "source": []
  }
 ],
 "metadata": {
  "kernelspec": {
   "display_name": "Python 3",
   "language": "python",
   "name": "python3"
  },
  "language_info": {
   "codemirror_mode": {
    "name": "ipython",
    "version": 3
   },
   "file_extension": ".py",
   "mimetype": "text/x-python",
   "name": "python",
   "nbconvert_exporter": "python",
   "pygments_lexer": "ipython3",
   "version": "3.10.12"
  },
  "orig_nbformat": 4
 },
 "nbformat": 4,
 "nbformat_minor": 2
}

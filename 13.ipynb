{
 "cells": [
  {
   "cell_type": "code",
   "execution_count": 1,
   "metadata": {},
   "outputs": [
    {
     "name": "stdout",
     "output_type": "stream",
     "text": [
      "\n",
      "Palindrome Checker Menu:\n",
      "1. Check if a string is a palindrome\n",
      "2. Quit\n",
      "Invalid choice. Please select a valid option (1/2).\n",
      "\n",
      "Palindrome Checker Menu:\n",
      "1. Check if a string is a palindrome\n",
      "2. Quit\n",
      "'123321' is a palindrome.\n",
      "\n",
      "Palindrome Checker Menu:\n",
      "1. Check if a string is a palindrome\n",
      "2. Quit\n",
      "'12321' is a palindrome.\n",
      "\n",
      "Palindrome Checker Menu:\n",
      "1. Check if a string is a palindrome\n",
      "2. Quit\n",
      "'----' is a palindrome.\n",
      "\n",
      "Palindrome Checker Menu:\n",
      "1. Check if a string is a palindrome\n",
      "2. Quit\n",
      "Exiting the program.\n"
     ]
    }
   ],
   "source": [
    "def is_palindrome(input_string):\n",
    "    cleaned_string = input_string.replace(\" \", \"\").lower()\n",
    "    reversed_string = cleaned_string[::-1]\n",
    "\n",
    "    return cleaned_string == reversed_string\n",
    "\n",
    "\n",
    "while True:\n",
    "    print(\"\\nPalindrome Checker Menu:\")\n",
    "    print(\"1. Check if a string is a palindrome\")\n",
    "    print(\"2. Quit\")\n",
    "\n",
    "    choice = input(\"Enter your choice (1/2): \")\n",
    "\n",
    "    if choice == '1':\n",
    "        try:\n",
    "            input_string = input(\"Enter a string: \")\n",
    "\n",
    "            if is_palindrome(input_string):\n",
    "                print(f\"'{input_string}' is a palindrome.\")\n",
    "            else:\n",
    "                print(f\"'{input_string}' is not a palindrome.\")\n",
    "\n",
    "        except Exception as e:\n",
    "            print(f\"An error occurred: {str(e)}\")\n",
    "\n",
    "    elif choice == '2':\n",
    "        print(\"Exiting the program.\")\n",
    "        break\n",
    "\n",
    "    else:\n",
    "        print(\"Invalid choice. Please select a valid option (1/2).\")\n"
   ]
  },
  {
   "cell_type": "code",
   "execution_count": null,
   "metadata": {},
   "outputs": [],
   "source": []
  }
 ],
 "metadata": {
  "kernelspec": {
   "display_name": "Python 3",
   "language": "python",
   "name": "python3"
  },
  "language_info": {
   "codemirror_mode": {
    "name": "ipython",
    "version": 3
   },
   "file_extension": ".py",
   "mimetype": "text/x-python",
   "name": "python",
   "nbconvert_exporter": "python",
   "pygments_lexer": "ipython3",
   "version": "3.10.12"
  },
  "orig_nbformat": 4
 },
 "nbformat": 4,
 "nbformat_minor": 2
}

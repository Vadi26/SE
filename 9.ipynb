{
 "cells": [
  {
   "cell_type": "code",
   "execution_count": 7,
   "metadata": {},
   "outputs": [
    {
     "name": "stdout",
     "output_type": "stream",
     "text": [
      "File Exists! Writing contents\n"
     ]
    }
   ],
   "source": [
    "import os\n",
    "\n",
    "filename = input(\"Enter the filename: \")\n",
    "\n",
    "if os.path.isfile(filename + '.txt'):\n",
    "    with open(filename + '.txt', 'a') as file:\n",
    "        print(\"File Exists! Writing contents\")\n",
    "        file.write(\"hello world\\n\")\n",
    "else:\n",
    "    with open(filename + '.txt', 'w') as file:\n",
    "        print(\"File does not exist :( Creating one ;)\")\n",
    "        file.write(\"hello world\\n\")"
   ]
  },
  {
   "cell_type": "code",
   "execution_count": null,
   "metadata": {},
   "outputs": [],
   "source": []
  }
 ],
 "metadata": {
  "kernelspec": {
   "display_name": "Python 3",
   "language": "python",
   "name": "python3"
  },
  "language_info": {
   "codemirror_mode": {
    "name": "ipython",
    "version": 3
   },
   "file_extension": ".py",
   "mimetype": "text/x-python",
   "name": "python",
   "nbconvert_exporter": "python",
   "pygments_lexer": "ipython3",
   "version": "3.10.12"
  },
  "orig_nbformat": 4
 },
 "nbformat": 4,
 "nbformat_minor": 2
}

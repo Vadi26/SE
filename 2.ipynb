{
 "cells": [
  {
   "cell_type": "code",
   "execution_count": 3,
   "metadata": {},
   "outputs": [],
   "source": [
    "def is_prime(number):\n",
    "    if (number == 2):\n",
    "        return True\n",
    "    if (number % 2 == 0):\n",
    "        return False\n",
    "    for i in range(3, int(number / 2)):\n",
    "        if (number % i == 0):\n",
    "            return False\n",
    "    return True\n"
   ]
  },
  {
   "cell_type": "code",
   "execution_count": 4,
   "metadata": {},
   "outputs": [
    {
     "name": "stdout",
     "output_type": "stream",
     "text": [
      "1. Check if a number is prime\n",
      "2. Exit\n",
      "Invalid input: Number should be greater than 1\n",
      "1. Check if a number is prime\n",
      "2. Exit\n",
      "Prime\n",
      "1. Check if a number is prime\n",
      "2. Exit\n",
      "Invalid choice. Please select a valid option.\n",
      "1. Check if a number is prime\n",
      "2. Exit\n",
      "Not prime\n",
      "1. Check if a number is prime\n",
      "2. Exit\n",
      "Prime\n",
      "1. Check if a number is prime\n",
      "2. Exit\n"
     ]
    }
   ],
   "source": [
    "def check_prime(number):\n",
    "    if number <= 1:\n",
    "        return \"Invalid input: Number should be greater than 1\"\n",
    "    return \"Prime\" if is_prime(number) else \"Not prime\"\n",
    "\n",
    "while True:\n",
    "    print(\"1. Check if a number is prime\")\n",
    "    print(\"2. Exit\")\n",
    "    choice = input(\"Enter your choice: \")\n",
    "\n",
    "    if choice == '1':\n",
    "        try:\n",
    "            number = int(input(\"Enter the number: \"))\n",
    "            result = check_prime(number)\n",
    "            print(result)\n",
    "        except ValueError:\n",
    "            print(\"Input format not correct! Please enter a valid integer.\")\n",
    "    elif choice == '2':\n",
    "        break\n",
    "    else:\n",
    "        print(\"Invalid choice. Please select a valid option.\")"
   ]
  },
  {
   "cell_type": "code",
   "execution_count": null,
   "metadata": {},
   "outputs": [],
   "source": []
  }
 ],
 "metadata": {
  "kernelspec": {
   "display_name": "Python 3",
   "language": "python",
   "name": "python3"
  },
  "language_info": {
   "codemirror_mode": {
    "name": "ipython",
    "version": 3
   },
   "file_extension": ".py",
   "mimetype": "text/x-python",
   "name": "python",
   "nbconvert_exporter": "python",
   "pygments_lexer": "ipython3",
   "version": "3.10.12"
  },
  "orig_nbformat": 4
 },
 "nbformat": 4,
 "nbformat_minor": 2
}

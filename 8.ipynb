{
 "cells": [
  {
   "cell_type": "code",
   "execution_count": 3,
   "metadata": {},
   "outputs": [
    {
     "name": "stdout",
     "output_type": "stream",
     "text": [
      "\n",
      "Student\tDivision\n",
      "s1\ti-division\n",
      "s2\tii-division\n"
     ]
    }
   ],
   "source": [
    "def displayResult(marks):\n",
    "    count = 0\n",
    "    total = 0\n",
    "    for mark in marks:\n",
    "        total += mark\n",
    "        count += 1\n",
    "    percentage = (total / (count * 100)) * 100\n",
    "    if percentage > 80:\n",
    "        return \"i-division\"\n",
    "    elif percentage > 60:\n",
    "        return \"ii-division\"\n",
    "    elif percentage > 40:\n",
    "        return \"iii-division\"\n",
    "    else:\n",
    "        return \"iv-division\"\n",
    "\n",
    "while True:\n",
    "    try:\n",
    "        num_students = int(input(\"Enter the number of students: \"))\n",
    "        if num_students < 1:\n",
    "            print(\"Please enter a valid number of students (at least 1).\")\n",
    "            continue\n",
    "\n",
    "        students = []\n",
    "\n",
    "        for _ in range(num_students):\n",
    "            student_name = input(f\"Enter the name of student {_ + 1}: \")\n",
    "\n",
    "            while True:\n",
    "                try:\n",
    "                    num_subjects = int(input(f\"Enter the number of subjects for {student_name}: \"))\n",
    "                    if 1 <= num_subjects <= 10:\n",
    "                        break\n",
    "                    else:\n",
    "                        print(\"Number of subjects should be between 1 and 10.\")\n",
    "                except ValueError:\n",
    "                    print(\"Invalid input for the number of subjects. Please enter a valid integer.\")\n",
    "\n",
    "            marks = []\n",
    "\n",
    "            for i in range(num_subjects):\n",
    "                while True:\n",
    "                    try:\n",
    "                        mark = float(input(f\"Enter marks for subject {i + 1} for {student_name}: \"))\n",
    "                        if 0 <= mark <= 100:\n",
    "                            marks.append(mark)\n",
    "                            break\n",
    "                        else:\n",
    "                            print(\"Marks should be between 0 and 100.\")\n",
    "                    except ValueError:\n",
    "                        print(\"Invalid input for marks. Please enter a valid number.\")\n",
    "\n",
    "            result = displayResult(marks)\n",
    "            students.append((student_name, result))\n",
    "\n",
    "        # Display the results in a tabular format\n",
    "        print(\"\\nStudent\\tDivision\")\n",
    "        for student_name, division in students:\n",
    "            print(f\"{student_name}\\t{division}\")\n",
    "\n",
    "        break\n",
    "    except ValueError:\n",
    "        print(\"Invalid input. Please enter valid input.\")\n",
    "    except Exception as e:\n",
    "        print(\"An error occurred:\", str(e))\n"
   ]
  },
  {
   "cell_type": "code",
   "execution_count": null,
   "metadata": {},
   "outputs": [],
   "source": []
  }
 ],
 "metadata": {
  "kernelspec": {
   "display_name": "Python 3",
   "language": "python",
   "name": "python3"
  },
  "language_info": {
   "codemirror_mode": {
    "name": "ipython",
    "version": 3
   },
   "file_extension": ".py",
   "mimetype": "text/x-python",
   "name": "python",
   "nbconvert_exporter": "python",
   "pygments_lexer": "ipython3",
   "version": "3.10.12"
  },
  "orig_nbformat": 4
 },
 "nbformat": 4,
 "nbformat_minor": 2
}

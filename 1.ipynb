{
 "cells": [
  {
   "cell_type": "code",
   "execution_count": 15,
   "metadata": {},
   "outputs": [],
   "source": [
    "def PoL(cp, sp):\n",
    "    if (cp - sp < 0):\n",
    "        # print(\"Loss of -> \")\n",
    "        return abs(cp - sp)\n",
    "    else:\n",
    "        # print(\"Profit of -> \")\n",
    "        return cp - sp"
   ]
  },
  {
   "cell_type": "code",
   "execution_count": 16,
   "metadata": {},
   "outputs": [],
   "source": [
    "def Percentage(cp, sp):\n",
    "    amt = PoL(cp, sp)\n",
    "    return (amt / cp) * 100"
   ]
  },
  {
   "cell_type": "code",
   "execution_count": 20,
   "metadata": {},
   "outputs": [
    {
     "name": "stdout",
     "output_type": "stream",
     "text": [
      "Loss amount :  100.0\n",
      "Loss Percentage :  50.0 %\n"
     ]
    }
   ],
   "source": [
    "cp = float(input(\"Enter the cost price : \"))\n",
    "sp = float(input(\"Enter the selling price : \"))\n",
    "\n",
    "if (cp > sp):\n",
    "    print(\"Loss amount : \", PoL(cp, sp))\n",
    "    print(\"Loss Percentage : \", Percentage(cp, sp), \"%\")\n",
    "elif (cp < sp):\n",
    "    print(\"Profit amount : \", PoL(cp, sp))\n",
    "    print(\"Profit Percentage : \", Percentage(cp, sp), \"%\")\n",
    "else:\n",
    "    print(\"No profit No Loss\")"
   ]
  },
  {
   "cell_type": "code",
   "execution_count": null,
   "metadata": {},
   "outputs": [],
   "source": []
  }
 ],
 "metadata": {
  "kernelspec": {
   "display_name": "Python 3",
   "language": "python",
   "name": "python3"
  },
  "language_info": {
   "codemirror_mode": {
    "name": "ipython",
    "version": 3
   },
   "file_extension": ".py",
   "mimetype": "text/x-python",
   "name": "python",
   "nbconvert_exporter": "python",
   "pygments_lexer": "ipython3",
   "version": "3.10.12"
  },
  "orig_nbformat": 4
 },
 "nbformat": 4,
 "nbformat_minor": 2
}

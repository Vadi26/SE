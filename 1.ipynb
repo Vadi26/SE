{
 "cells": [
  {
   "cell_type": "code",
   "execution_count": 2,
   "metadata": {},
   "outputs": [
    {
     "name": "stdout",
     "output_type": "stream",
     "text": [
      "1. Calculate Profit/Loss\n",
      "2. Exit\n",
      "Cost price cannot be negative !\n",
      "1. Calculate Profit/Loss\n",
      "2. Exit\n",
      "Profit amount :  22.0\n",
      "Since cost price is 0, percentage cannot be calculated\n",
      "1. Calculate Profit/Loss\n",
      "2. Exit\n"
     ]
    }
   ],
   "source": [
    "def calculate_profit_loss(cp, sp):\n",
    "    if cp == 0:\n",
    "        return \"Invalid input: Cost price cannot be zero\", 0, 0\n",
    "\n",
    "    if cp > sp:\n",
    "        return \"Loss\", cp - sp, ((cp - sp) / cp) * 100\n",
    "    elif cp < sp:\n",
    "        return \"Profit\", sp - cp, ((sp - cp) / cp) * 100\n",
    "    else:\n",
    "        return \"No profit No Loss\", 0, 0\n",
    "\n",
    "while True:\n",
    "    print(\"1. Calculate Profit/Loss\")\n",
    "    print(\"2. Exit\")\n",
    "    choice = input(\"Enter your choice: \")\n",
    "\n",
    "    if choice == '1':\n",
    "        try:\n",
    "            cp = float(input(\"Enter the cost price: \"))\n",
    "            if (cp < 0):\n",
    "                print(\"Cost price cannot be negative !\")\n",
    "                continue\n",
    "            sp = float(input(\"Enter the selling price: \"))\n",
    "            if (cp == 0):\n",
    "                print(\"Profit amount : \", sp)\n",
    "                print(\"Since cost price is 0, percentage cannot be calculated\")\n",
    "            else:\n",
    "                result_type, amount, percentage = calculate_profit_loss(cp, sp)\n",
    "                print(f\"{result_type}: Amount: {amount}, Percentage: {percentage:.2f}%\")\n",
    "        except ValueError:\n",
    "            print(\"Enter proper input (numeric values)!\")\n",
    "    elif choice == '2':\n",
    "        break\n",
    "    else:\n",
    "        print(\"Invalid choice. Please select a valid option.\")"
   ]
  },
  {
   "cell_type": "code",
   "execution_count": null,
   "metadata": {},
   "outputs": [],
   "source": []
  }
 ],
 "metadata": {
  "kernelspec": {
   "display_name": "Python 3 (ipykernel)",
   "language": "python",
   "name": "python3"
  },
  "language_info": {
   "codemirror_mode": {
    "name": "ipython",
    "version": 3
   },
   "file_extension": ".py",
   "mimetype": "text/x-python",
   "name": "python",
   "nbconvert_exporter": "python",
   "pygments_lexer": "ipython3",
   "version": "3.10.12"
  }
 },
 "nbformat": 4,
 "nbformat_minor": 2
}

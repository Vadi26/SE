{
 "cells": [
  {
   "cell_type": "code",
   "execution_count": 3,
   "metadata": {},
   "outputs": [],
   "source": [
    "import math"
   ]
  },
  {
   "cell_type": "code",
   "execution_count": 4,
   "metadata": {},
   "outputs": [
    {
     "name": "stdout",
     "output_type": "stream",
     "text": [
      "\n",
      "Factorial Calculator Menu:\n",
      "1. Calculate factorial of a number\n",
      "2. Quit\n",
      "Invalid input: Enter a non-negative integer.\n",
      "\n",
      "Factorial Calculator Menu:\n",
      "1. Calculate factorial of a number\n",
      "2. Quit\n",
      "Exiting the program.\n"
     ]
    }
   ],
   "source": [
    "def calculate_factorial(n):\n",
    "    try:\n",
    "        factorial = math.factorial(n)\n",
    "        return factorial\n",
    "    except ValueError as ve:\n",
    "        return None\n",
    "\n",
    "while True:\n",
    "    print(\"\\nFactorial Calculator Menu:\")\n",
    "    print(\"1. Calculate factorial of a number\")\n",
    "    print(\"2. Quit\")\n",
    "\n",
    "    choice = input(\"Enter your choice (1/2): \")\n",
    "\n",
    "    if choice == '1':\n",
    "        try:\n",
    "            num_str = (input(\"Enter a non-negative integer: \"))\n",
    "            while (float(num_str) - int(num_str) != 0.):\n",
    "                print(\"Enter a proper integer !\")\n",
    "                num_str = float(input(\"Enter a non-negative integer: \"))\n",
    "                \n",
    "            num = int(num_str)\n",
    "            if num >= 0:\n",
    "                result = calculate_factorial(num)\n",
    "                if result is not None:\n",
    "                    print(f\"The factorial of {num} is {result}\")\n",
    "                else:\n",
    "                    print(\"Factorial calculation error: Enter a non-negative integer.\")\n",
    "            else:\n",
    "                print(\"Invalid input: Enter a non-negative integer.\")\n",
    "\n",
    "        except Exception as e:\n",
    "            print(f\"An error occurred: {str(e)}\")\n",
    "\n",
    "    elif choice == '2':\n",
    "        print(\"Exiting the program.\")\n",
    "        break\n",
    "\n",
    "    else:\n",
    "        print(\"Invalid choice. Please select a valid option (1/2).\")\n"
   ]
  },
  {
   "cell_type": "code",
   "execution_count": null,
   "metadata": {},
   "outputs": [],
   "source": []
  },
  {
   "cell_type": "code",
   "execution_count": null,
   "metadata": {},
   "outputs": [],
   "source": []
  }
 ],
 "metadata": {
  "kernelspec": {
   "display_name": "Python 3",
   "language": "python",
   "name": "python3"
  },
  "language_info": {
   "codemirror_mode": {
    "name": "ipython",
    "version": 3
   },
   "file_extension": ".py",
   "mimetype": "text/x-python",
   "name": "python",
   "nbconvert_exporter": "python",
   "pygments_lexer": "ipython3",
   "version": "3.10.12"
  },
  "orig_nbformat": 4
 },
 "nbformat": 4,
 "nbformat_minor": 2
}

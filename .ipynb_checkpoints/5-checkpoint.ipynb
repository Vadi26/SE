{
 "cells": [
  {
   "cell_type": "code",
   "execution_count": 1,
   "metadata": {},
   "outputs": [],
   "source": [
    "def displayResult(marks):\n",
    "    count = 0\n",
    "    total = 0\n",
    "    for mark in marks:\n",
    "        total += mark\n",
    "        count += 1\n",
    "    percentage = (total / (count*100)) * 100\n",
    "    if (percentage > 80):\n",
    "        return \"i-division\"\n",
    "    elif (percentage > 60):\n",
    "        return \"ii-division\"\n",
    "    elif (percentage > 40):\n",
    "        return \"iii-division\"\n",
    "    else:\n",
    "        return \"iv-division\""
   ]
  },
  {
   "cell_type": "code",
   "execution_count": null,
   "metadata": {},
   "outputs": [],
   "source": []
  },
  {
   "cell_type": "code",
   "execution_count": 2,
   "metadata": {},
   "outputs": [
    {
     "name": "stdout",
     "output_type": "stream",
     "text": [
      "Menu:\n",
      "1. Calculate Division\n",
      "2. Exit\n",
      "Enter your choice: 1\n",
      "Enter the number of subjects: 3\n",
      "Enter the marks for each subject:\n",
      "Enter marks: -1\n",
      "Marks cannot be negative ! Give proper input !\n",
      "Enter marks : -2\n",
      "Marks cannot be negative ! Give proper input !\n",
      "Enter marks : 101\n",
      "Marks cannot be greater than 100 ! Give proper input !\n",
      "Enter marks : 22\n",
      "Enter marks: 33\n",
      "Enter marks: 44\n",
      "Result: iv-division\n",
      "Menu:\n",
      "1. Calculate Division\n",
      "2. Exit\n",
      "Enter your choice: 2\n"
     ]
    }
   ],
   "source": [
    "while 1:\n",
    "    try:\n",
    "        while True:\n",
    "            print(\"Menu:\")\n",
    "            print(\"1. Calculate Division\")\n",
    "            print(\"2. Exit\")\n",
    "\n",
    "            choice = int(input(\"Enter your choice: \"))\n",
    "            if choice == 1:\n",
    "                i = int(input(\"Enter the number of subjects: \"))\n",
    "                while (i < 0):\n",
    "                    print(\"No.of subjects cannot be negative !\")\n",
    "                    i = int(input(\"Enter your choice: \"))\n",
    "                while (i > 10):\n",
    "                    print(\"No.of subjects cannot be greater than 10 !\")\n",
    "                    i = int(input(\"Enter your choice: \"))\n",
    "                print(\"Enter the marks for each subject:\")\n",
    "                marks = []\n",
    "                for _ in range(i):\n",
    "                    mark = float(input(\"Enter marks: \"))\n",
    "                    while (mark < 0):\n",
    "                        print(\"Marks cannot be negative ! Give proper input !\")\n",
    "                        mark = float(input(\"Enter marks : \"))\n",
    "                    while (mark > 100):\n",
    "                        print(\"Marks cannot be greater than 100 ! Give proper input !\")\n",
    "                        mark = float(input(\"Enter marks : \"))\n",
    "                    marks.append(mark)\n",
    "                result = displayResult(marks)\n",
    "                print(\"Result:\", result)\n",
    "            elif choice == 2:\n",
    "                break\n",
    "            else:\n",
    "                print(\"Invalid choice. Please select a valid option.\")\n",
    "        break\n",
    "    except ValueError:\n",
    "        print(\"Input format is not correct! Please enter valid input.\")\n",
    "        continue\n",
    "    except Exception as e:\n",
    "        print(\"An error occurred:\", str(e))\n",
    "        continue\n",
    "    break"
   ]
  },
  {
   "cell_type": "code",
   "execution_count": null,
   "metadata": {},
   "outputs": [],
   "source": []
  }
 ],
 "metadata": {
  "kernelspec": {
   "display_name": "Python 3 (ipykernel)",
   "language": "python",
   "name": "python3"
  },
  "language_info": {
   "codemirror_mode": {
    "name": "ipython",
    "version": 3
   },
   "file_extension": ".py",
   "mimetype": "text/x-python",
   "name": "python",
   "nbconvert_exporter": "python",
   "pygments_lexer": "ipython3",
   "version": "3.10.12"
  }
 },
 "nbformat": 4,
 "nbformat_minor": 2
}

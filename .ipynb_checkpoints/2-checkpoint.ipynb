{
 "cells": [
  {
   "cell_type": "code",
   "execution_count": null,
   "metadata": {},
   "outputs": [],
   "source": [
    "def is_prime(number):\n",
    "    if (number == 2):\n",
    "        return True\n",
    "    if (number % 2 == 0):\n",
    "        return False\n",
    "    for i in range(3, int(number / 2)):\n",
    "        if (number % i == 0):\n",
    "            return False\n",
    "    return True\n"
   ]
  },
  {
   "cell_type": "code",
   "execution_count": null,
   "metadata": {},
   "outputs": [],
   "source": [
    "def check_prime(number):\n",
    "    if number <= 1:\n",
    "        return \"Invalid input: Number should be greater than 1\", 1\n",
    "    return True, 0 if is_prime(number) else False, 0\n",
    "\n",
    "while True:\n",
    "    try:\n",
    "        print(\"1. Check if a number is prime\")\n",
    "        print(\"2. Exit\")\n",
    "        choice = input(\"Enter your choice: \")\n",
    "\n",
    "        if choice == '1':\n",
    "#             try:\n",
    "            number = int(input(\"Enter the number: \"))\n",
    "            result, num = check_prime(number)\n",
    "            if (num == 1):\n",
    "                print(result)\n",
    "                continue\n",
    "            if (result):\n",
    "                print(number, \"is a Prime Number\")\n",
    "            else:\n",
    "                print(number, \"is not a Prime Number\")\n",
    "#             except ValueError:\n",
    "#                 print(\"Input format not correct! Please enter a valid integer.\")\n",
    "        elif choice == '2':\n",
    "            break\n",
    "        else:\n",
    "            print(\"Invalid choice. Please select a valid option.\")\n",
    "    except ValueError:\n",
    "        print(\"Enter proper value !\")"
   ]
  },
  {
   "cell_type": "code",
   "execution_count": null,
   "metadata": {},
   "outputs": [],
   "source": []
  },
  {
   "cell_type": "code",
   "execution_count": null,
   "metadata": {},
   "outputs": [],
   "source": []
  }
 ],
 "metadata": {
  "kernelspec": {
   "display_name": "Python 3 (ipykernel)",
   "language": "python",
   "name": "python3"
  },
  "language_info": {
   "codemirror_mode": {
    "name": "ipython",
    "version": 3
   },
   "file_extension": ".py",
   "mimetype": "text/x-python",
   "name": "python",
   "nbconvert_exporter": "python",
   "pygments_lexer": "ipython3",
   "version": "3.10.12"
  }
 },
 "nbformat": 4,
 "nbformat_minor": 2
}

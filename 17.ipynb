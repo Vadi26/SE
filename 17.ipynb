{
 "cells": [
  {
   "cell_type": "code",
   "execution_count": 6,
   "metadata": {},
   "outputs": [
    {
     "name": "stdout",
     "output_type": "stream",
     "text": [
      "Cat\n",
      "dog\n",
      "bear\n",
      "hello\n",
      "elephant\n",
      "hello\n",
      "tiger\n",
      "hello\n",
      "horse\n",
      "\n",
      "Modified File Contents:\n",
      "Cat\n",
      "dog\n",
      "bear\n",
      "elephant\n",
      "tiger\n",
      "horse\n"
     ]
    }
   ],
   "source": [
    "try:\n",
    "    with open('animals.txt', 'w') as file:\n",
    "        file.write(\"Cat\\ndog\\nbear\\nhello\\nelephant\\nhello\\ntiger\\nhello\\nhorse\\n\")\n",
    "    \n",
    "    with open('animals.txt', 'r') as file:\n",
    "        print(file.read())\n",
    "\n",
    "    with open('animals.txt', 'r') as input_file, open('modified_animals.txt', 'w') as output_file:\n",
    "        for line in input_file:\n",
    "            if \"hello\" not in line:\n",
    "                output_file.write(line)\n",
    "\n",
    "    with open('modified_animals.txt', 'r') as modified_file:\n",
    "        print(\"Modified File Contents:\")\n",
    "        for line in modified_file:\n",
    "            print(line.strip())\n",
    "\n",
    "except FileNotFoundError:\n",
    "    print(\"Error: The file was not found.\")\n",
    "except Exception as e:\n",
    "    print(f\"An error occurred: {str(e)}\")\n"
   ]
  },
  {
   "cell_type": "code",
   "execution_count": null,
   "metadata": {},
   "outputs": [],
   "source": []
  }
 ],
 "metadata": {
  "kernelspec": {
   "display_name": "Python 3",
   "language": "python",
   "name": "python3"
  },
  "language_info": {
   "codemirror_mode": {
    "name": "ipython",
    "version": 3
   },
   "file_extension": ".py",
   "mimetype": "text/x-python",
   "name": "python",
   "nbconvert_exporter": "python",
   "pygments_lexer": "ipython3",
   "version": "3.10.12"
  },
  "orig_nbformat": 4
 },
 "nbformat": 4,
 "nbformat_minor": 2
}

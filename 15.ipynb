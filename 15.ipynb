{
 "cells": [
  {
   "cell_type": "code",
   "execution_count": 1,
   "metadata": {},
   "outputs": [],
   "source": [
    "def are_file_contents_equal(file1, file2):\n",
    "    try:\n",
    "        file1 += \".txt\"\n",
    "        file2 += \".txt\"\n",
    "        with open(file1, 'r') as f1, open(file2, 'r') as f2:\n",
    "            content1 = f1.read()\n",
    "            content2 = f2.read()\n",
    "        \n",
    "        return content1 == content2\n",
    "    except FileNotFoundError:\n",
    "        return None"
   ]
  },
  {
   "cell_type": "code",
   "execution_count": 4,
   "metadata": {},
   "outputs": [
    {
     "name": "stdout",
     "output_type": "stream",
     "text": [
      "\n",
      "File Content Comparison Menu:\n",
      "1. Check if contents of two files are the same\n",
      "2. Quit\n",
      "The contents of the two files are the same.\n",
      "\n",
      "File Content Comparison Menu:\n",
      "1. Check if contents of two files are the same\n",
      "2. Quit\n",
      "Exiting the program.\n"
     ]
    }
   ],
   "source": [
    "\n",
    "while True:\n",
    "    print(\"\\nFile Content Comparison Menu:\")\n",
    "    print(\"1. Check if contents of two files are the same\")\n",
    "    print(\"2. Quit\")\n",
    "\n",
    "    choice = input(\"Enter your choice (1/2): \")\n",
    "\n",
    "    if choice == '1':\n",
    "        try:\n",
    "            # Prompt the user for file names\n",
    "            file1 = input(\"Enter the name of the first file: \")\n",
    "            file2 = input(\"Enter the name of the second file: \")\n",
    "\n",
    "            result = are_file_contents_equal(file1, file2)\n",
    "            if result is not None:\n",
    "                if result:\n",
    "                    print(\"The contents of the two files are the same.\")\n",
    "                else:\n",
    "                    print(\"The contents of the two files are different.\")\n",
    "            else:\n",
    "                print(\"Error: One or both files not found.\")\n",
    "        except Exception as e:\n",
    "            print(f\"An error occurred: {str(e)}\")\n",
    "\n",
    "    elif choice == '2':\n",
    "        print(\"Exiting the program.\")\n",
    "        break\n",
    "\n",
    "    else:\n",
    "        print(\"Invalid choice. Please select a valid option (1/2).\")\n"
   ]
  },
  {
   "cell_type": "code",
   "execution_count": null,
   "metadata": {},
   "outputs": [],
   "source": []
  }
 ],
 "metadata": {
  "kernelspec": {
   "display_name": "Python 3",
   "language": "python",
   "name": "python3"
  },
  "language_info": {
   "codemirror_mode": {
    "name": "ipython",
    "version": 3
   },
   "file_extension": ".py",
   "mimetype": "text/x-python",
   "name": "python",
   "nbconvert_exporter": "python",
   "pygments_lexer": "ipython3",
   "version": "3.10.12"
  },
  "orig_nbformat": 4
 },
 "nbformat": 4,
 "nbformat_minor": 2
}

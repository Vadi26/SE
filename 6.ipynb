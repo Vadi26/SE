{
 "cells": [
  {
   "cell_type": "code",
   "execution_count": 1,
   "metadata": {},
   "outputs": [],
   "source": [
    "def perform(op1, op, op2):\n",
    "    if (op == \"+\"):\n",
    "        return op1 + op2\n",
    "    elif (op == \"-\"):\n",
    "        return op1 - op2\n",
    "    elif (op == \"*\"):\n",
    "        return op1 * op2\n",
    "    elif (op == \"/\"):\n",
    "        if (op2 != 0):\n",
    "            return op1 / op2\n",
    "        else:\n",
    "            print(\"Division by zero error !\")\n",
    "    else:\n",
    "        print(\"No valid operation entered :(\")"
   ]
  },
  {
   "cell_type": "code",
   "execution_count": 3,
   "metadata": {},
   "outputs": [
    {
     "name": "stdout",
     "output_type": "stream",
     "text": [
      "Enter proper input !\n",
      "Input not in proper format!\n",
      "Enter proper operator !\n",
      "Result: 87.0\n"
     ]
    }
   ],
   "source": [
    "while (True):\n",
    "    choice = input(\"1 - Want to perform operation, 2 - Quit\")\n",
    "    if (choice == '2'):\n",
    "        break\n",
    "    if (choice == '1'):\n",
    "        try:\n",
    "            op1 = float(input(\"Operand 1: \"))\n",
    "            op = input(\"Operator: \")\n",
    "            while op not in ['+', '-', '/', '*']:\n",
    "                print(\"Enter proper operator !\")\n",
    "                op = input(\"Operator: \")\n",
    "            op2 = float(input(\"Operand 2: \"))\n",
    "\n",
    "            result = perform(op1, op, op2)\n",
    "            if isinstance(result, str):\n",
    "                print(result)\n",
    "            else:\n",
    "                print(\"Result:\", result)\n",
    "        except ValueError:\n",
    "            print(\"Input not in proper format!\")\n",
    "        except Exception as e:\n",
    "            print(\"An error occurred:\", str(e))\n",
    "    else:\n",
    "        print(\"Enter proper input !\")"
   ]
  },
  {
   "cell_type": "code",
   "execution_count": null,
   "metadata": {},
   "outputs": [],
   "source": []
  }
 ],
 "metadata": {
  "kernelspec": {
   "display_name": "Python 3",
   "language": "python",
   "name": "python3"
  },
  "language_info": {
   "codemirror_mode": {
    "name": "ipython",
    "version": 3
   },
   "file_extension": ".py",
   "mimetype": "text/x-python",
   "name": "python",
   "nbconvert_exporter": "python",
   "pygments_lexer": "ipython3",
   "version": "3.10.12"
  },
  "orig_nbformat": 4
 },
 "nbformat": 4,
 "nbformat_minor": 2
}
